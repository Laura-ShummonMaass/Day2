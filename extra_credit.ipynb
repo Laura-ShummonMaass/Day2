{
 "cells": [
  {
   "cell_type": "code",
   "execution_count": 88,
   "metadata": {},
   "outputs": [
    {
     "name": "stdout",
     "output_type": "stream",
     "text": [
      "{'lower': 'a', 'upper': 'A', 'index': 0}\n",
      "{'lower': 'b', 'upper': 'B', 'index': 1}\n",
      "{'lower': 'c', 'upper': 'C', 'index': 2}\n",
      "{'lower': 'd', 'upper': 'D', 'index': 3}\n",
      "{'lower': 'e', 'upper': 'E', 'index': 4}\n",
      "{'lower': 'f', 'upper': 'F', 'index': 5}\n",
      "{'lower': 'g', 'upper': 'G', 'index': 6}\n",
      "{'lower': 'h', 'upper': 'H', 'index': 7}\n",
      "{'lower': 'i', 'upper': 'I', 'index': 8}\n",
      "{'lower': 'j', 'upper': 'J', 'index': 9}\n",
      "{'lower': 'k', 'upper': 'K', 'index': 10}\n",
      "{'lower': 'l', 'upper': 'L', 'index': 11}\n",
      "{'lower': 'm', 'upper': 'M', 'index': 12}\n",
      "{'lower': 'n', 'upper': 'N', 'index': 13}\n",
      "{'lower': 'o', 'upper': 'O', 'index': 14}\n",
      "{'lower': 'p', 'upper': 'P', 'index': 15}\n",
      "{'lower': 'q', 'upper': 'Q', 'index': 16}\n",
      "{'lower': 'r', 'upper': 'R', 'index': 17}\n",
      "{'lower': 's', 'upper': 'S', 'index': 18}\n",
      "{'lower': 't', 'upper': 'T', 'index': 19}\n",
      "{'lower': 'u', 'upper': 'U', 'index': 20}\n",
      "{'lower': 'v', 'upper': 'V', 'index': 21}\n",
      "{'lower': 'w', 'upper': 'W', 'index': 22}\n",
      "{'lower': 'x', 'upper': 'X', 'index': 23}\n",
      "{'lower': 'y', 'upper': 'Y', 'index': 24}\n",
      "{'lower': 'z', 'upper': 'Z', 'index': 25}\n"
     ]
    }
   ],
   "source": [
    "from string import ascii_lowercase       \n",
    "letters = list(ascii_lowercase)\n",
    "numbers = range(0,26)\n",
    "for i in numbers:\n",
    "    print(dict({'lower': letters[i], 'upper': letters[i].upper(), 'index': i}))"
   ]
  }
 ],
 "metadata": {
  "kernelspec": {
   "display_name": "learn-env",
   "language": "python",
   "name": "learn-env"
  },
  "language_info": {
   "codemirror_mode": {
    "name": "ipython",
    "version": 3
   },
   "file_extension": ".py",
   "mimetype": "text/x-python",
   "name": "python",
   "nbconvert_exporter": "python",
   "pygments_lexer": "ipython3",
   "version": "3.7.1"
  }
 },
 "nbformat": 4,
 "nbformat_minor": 2
}
